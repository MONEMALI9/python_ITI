{
 "cells": [
  {
   "cell_type": "markdown",
   "metadata": {},
   "source": [
    " # lab2"
   ]
  },
  {
   "cell_type": "markdown",
   "metadata": {},
   "source": [
    "1. write a program that count up the number of vowles[a,e,i,o,u] contained in string"
   ]
  },
  {
   "cell_type": "code",
   "execution_count": 7,
   "metadata": {},
   "outputs": [
    {
     "name": "stdout",
     "output_type": "stream",
     "text": [
      "the number of vowles[a,e,i,o,u] contained in string = 2\n"
     ]
    }
   ],
   "source": [
    "#name =  input(\"enter your name : \")\n",
    "name  = \"monem\"\n",
    "v = ['a','e','i','o','u']\n",
    "count = 0 \n",
    "for i in name:\n",
    "    if i in v:\n",
    "        count+=1\n",
    "print(f\"the number of vowles[a,e,i,o,u] contained in string = {count}\")"
   ]
  },
  {
   "cell_type": "markdown",
   "metadata": {},
   "source": [
    "2. fill an array of 5 elements from user sort it in descending order and ascending order then display output "
   ]
  },
  {
   "cell_type": "code",
   "execution_count": 9,
   "metadata": {},
   "outputs": [
    {
     "name": "stdout",
     "output_type": "stream",
     "text": [
      "[0, 8, 46, 55, 745]\n",
      "[745, 55, 46, 8, 0]\n"
     ]
    }
   ],
   "source": [
    "n = 5\n",
    "num_list = list(int(num) for num in input(\"Enter the list items separated by space \").strip().split())[:n]\n",
    "\n",
    "num_list.sort()\n",
    "print(num_list)\n",
    "num_list.sort(reverse=True)\n",
    "print(num_list)"
   ]
  },
  {
   "cell_type": "markdown",
   "metadata": {},
   "source": [
    "3. write a program that print the number of times the string 'iti' occurs in any thing"
   ]
  },
  {
   "cell_type": "code",
   "execution_count": 7,
   "metadata": {},
   "outputs": [
    {
     "name": "stdout",
     "output_type": "stream",
     "text": [
      "['monem', 'iti']\n",
      "<class 'list'>\n",
      "the number of times the string 'iti' occurs =  1\n"
     ]
    }
   ],
   "source": [
    "s = input(\"enter your string : \").strip().split()\n",
    "print(s)\n",
    "print(type(s))\n",
    "counter = 0\n",
    "for i in s:\n",
    "    if i == 'iti':\n",
    "        counter+=1\n",
    "        \n",
    "print(f\"the number of times the string 'iti' occurs =  {counter}\")"
   ]
  },
  {
   "cell_type": "markdown",
   "metadata": {},
   "source": [
    "4. write a program to remove all vowels from string"
   ]
  },
  {
   "cell_type": "code",
   "execution_count": 11,
   "metadata": {},
   "outputs": [
    {
     "name": "stdout",
     "output_type": "stream",
     "text": [
      "the new_word after remove all vowels from string : mnm\n"
     ]
    }
   ],
   "source": [
    "#name =  input(\"enter your name : \")\n",
    "name  = \"monem\"\n",
    "v = ['a','e','i','o','u']\n",
    "new_word = \"\"\n",
    "for i in name:\n",
    "    if i in v:\n",
    "        continue\n",
    "    else:\n",
    "      new_word = new_word + i\n",
    "print(f\"the new_word after remove all vowels from string : {new_word}\")"
   ]
  },
  {
   "cell_type": "markdown",
   "metadata": {},
   "source": [
    "5. write a program that print the loactions of 'i' char in word"
   ]
  },
  {
   "cell_type": "code",
   "execution_count": 12,
   "metadata": {},
   "outputs": [
    {
     "name": "stdout",
     "output_type": "stream",
     "text": [
      "the loactions of 'i' char in word: [0, 2]\n"
     ]
    }
   ],
   "source": [
    "word =  input(\"enter your name : \")\n",
    "l = []\n",
    "for i in range(len(word)):\n",
    "    if word[i] == 'i':\n",
    "        l.append(i)\n",
    "print(f\"the loactions of 'i' char in word: {l}\")"
   ]
  },
  {
   "cell_type": "markdown",
   "metadata": {},
   "source": [
    "6. write a programe that generate a multiplication  table from 1 to number based"
   ]
  },
  {
   "cell_type": "code",
   "execution_count": 18,
   "metadata": {},
   "outputs": [
    {
     "name": "stdout",
     "output_type": "stream",
     "text": [
      "please enter valid numeric value\n"
     ]
    }
   ],
   "source": [
    "try: \n",
    "    num = input(\"enter number : \")\n",
    "    if(num.isnumeric()):\n",
    "        num = int(num)\n",
    "        bigl=[]\n",
    "        for i in range(1,num+1):\n",
    "            for j in range (i,i+1):\n",
    "                for k in range (i,j+1):\n",
    "                    l=[]\n",
    "                    l.append(j)\n",
    "                bigl.append[l]\n",
    "        print(bigl)\n",
    "except:\n",
    "    print('please enter valid numeric value')"
   ]
  },
  {
   "cell_type": "markdown",
   "metadata": {},
   "source": [
    "write a program to build a mario pyramid"
   ]
  },
  {
   "cell_type": "code",
   "execution_count": 1,
   "metadata": {},
   "outputs": [
    {
     "name": "stdout",
     "output_type": "stream",
     "text": [
      "     *\n",
      "    **\n",
      "   ***\n",
      "  ****\n",
      " *****\n"
     ]
    }
   ],
   "source": [
    "\n",
    "mp = int(input(\"enter the number : \"))\n",
    "\n",
    "for i in range(mp):\n",
    "   print(\" \"*(mp-i)+\"*\"*(i+1))\n"
   ]
  },
  {
   "cell_type": "markdown",
   "metadata": {},
   "source": [
    "!jupyter nbconvert --to script lab1.ipynb"
   ]
  },
  {
   "cell_type": "code",
   "execution_count": 9,
   "metadata": {},
   "outputs": [
    {
     "name": "stderr",
     "output_type": "stream",
     "text": [
      "[NbConvertApp] Converting notebook lab2.ipynb to script\n",
      "[NbConvertApp] Writing 2315 bytes to lab2.py\n"
     ]
    }
   ],
   "source": [
    "!jupyter nbconvert --to script lab2.ipynb\n"
   ]
  },
  {
   "cell_type": "markdown",
   "metadata": {},
   "source": []
  },
  {
   "cell_type": "markdown",
   "metadata": {},
   "source": []
  },
  {
   "cell_type": "markdown",
   "metadata": {},
   "source": []
  },
  {
   "cell_type": "markdown",
   "metadata": {},
   "source": []
  }
 ],
 "metadata": {
  "kernelspec": {
   "display_name": "pytaskitivenv",
   "language": "python",
   "name": "python3"
  },
  "language_info": {
   "codemirror_mode": {
    "name": "ipython",
    "version": 3
   },
   "file_extension": ".py",
   "mimetype": "text/x-python",
   "name": "python",
   "nbconvert_exporter": "python",
   "pygments_lexer": "ipython3",
   "version": "3.7.8"
  },
  "orig_nbformat": 4
 },
 "nbformat": 4,
 "nbformat_minor": 2
}
