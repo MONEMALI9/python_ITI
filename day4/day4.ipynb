{
 "cells": [
  {
   "cell_type": "markdown",
   "metadata": {},
   "source": [
    "# Crowd-Funding console app "
   ]
  },
  {
   "cell_type": "markdown",
   "metadata": {},
   "source": [
    "1. Crowdfunding is the practice of funding a project or venture by raising small amounts of money from a large number of people typically via the Internet.<br> \n",
    "2. Crowdfunding is  a form of crowdsourcing and alternative finance. In 2015, over US$34 billion was raised worldwide by crowdfunding.(From [Wikipedia](https://en.wikipedia.org/wiki/Crowdfunding))<br>"
   ]
  },
  {
   "cell_type": "markdown",
   "metadata": {},
   "source": [
    "The aim of the project: \n",
    "1. Create a console app to start fundraise projects. "
   ]
  },
  {
   "cell_type": "markdown",
   "metadata": {},
   "source": [
    "The app should include the following features: "
   ]
  },
  {
   "cell_type": "markdown",
   "metadata": {},
   "source": [
    "1. Authentication System: \n",
    "    1. Registration: \n",
    "        1. First name \n",
    "        2. Last name \n",
    "        3. Email \n",
    "        4. Password \n",
    "        5. Confirm password \n",
    "        6. Mobile phone [validated against Egyptian phone numbers]   "
   ]
  },
  {
   "cell_type": "code",
   "execution_count": 5,
   "metadata": {},
   "outputs": [
    {
     "name": "stdout",
     "output_type": "stream",
     "text": [
      "('monem', 'ali')\n"
     ]
    }
   ],
   "source": [
    "# test name\n",
    "def user_name(fname = \"monem\",lname = \"ali\"):\n",
    "    \n",
    "    while True:\n",
    "        fname = input(\"enter your first name : \").strip()\n",
    "        lname = input(\"enter your last name : \").strip()\n",
    "        \n",
    "        flag_fname = flag_lname = False\n",
    "        \n",
    "        if fname.isalpha() and lname.isalpha():\n",
    "            return fname , lname\n",
    "        else:\n",
    "            if (not flag_fname):\n",
    "                print(\"your first name is not validator....try again\")\n",
    "            elif (not flag_lname):\n",
    "                print(\"your last name is not validator....try again\")\n",
    "\n",
    "if __name__==\"__main__\":\n",
    "    print(user_name())"
   ]
  },
  {
   "cell_type": "code",
   "execution_count": 9,
   "metadata": {},
   "outputs": [
    {
     "name": "stdout",
     "output_type": "stream",
     "text": [
      "your National ID is not validator                         ....try again\n",
      "National Id should be of length exactly 14.\n",
      "29902091600156\n"
     ]
    }
   ],
   "source": [
    "# test ID\n",
    "def user_national_id(nid = \"11111111111111\"):\n",
    "    \n",
    "    while True:\n",
    "        nid = input(\"enter national id number \\\n",
    "            without any space or special character \\\n",
    "                fully 14 digits\").strip()\n",
    "        if not nid.isnumeric():\n",
    "            print(\"your National ID is not validator \\\n",
    "                        ....try again\")\n",
    "        else:\n",
    "            if len(nid) == 14:\n",
    "                return nid\n",
    "            \n",
    "            else:\n",
    "                print (\"National Id should be of length exactly 14.\")\n",
    "\n",
    "if __name__==\"__main__\":   \n",
    "    print(user_national_id())"
   ]
  },
  {
   "cell_type": "code",
   "execution_count": 40,
   "metadata": {},
   "outputs": [
    {
     "ename": "TypeError",
     "evalue": "'str' object is not callable",
     "output_type": "error",
     "traceback": [
      "\u001b[1;31m---------------------------------------------------------------------------\u001b[0m",
      "\u001b[1;31mTypeError\u001b[0m                                 Traceback (most recent call last)",
      "\u001b[1;32m~\\AppData\\Local\\Temp\\ipykernel_16300\\3868633819.py\u001b[0m in \u001b[0;36m<module>\u001b[1;34m\u001b[0m\n\u001b[0;32m     19\u001b[0m \u001b[1;33m\u001b[0m\u001b[0m\n\u001b[0;32m     20\u001b[0m \u001b[1;32mif\u001b[0m \u001b[0m__name__\u001b[0m \u001b[1;33m==\u001b[0m \u001b[1;34m\"__main__\"\u001b[0m\u001b[1;33m:\u001b[0m\u001b[1;33m\u001b[0m\u001b[1;33m\u001b[0m\u001b[0m\n\u001b[1;32m---> 21\u001b[1;33m     \u001b[0mprint\u001b[0m\u001b[1;33m(\u001b[0m\u001b[0mis_valid_email\u001b[0m\u001b[1;33m(\u001b[0m\u001b[1;33m)\u001b[0m\u001b[1;33m)\u001b[0m\u001b[1;33m\u001b[0m\u001b[1;33m\u001b[0m\u001b[0m\n\u001b[0m",
      "\u001b[1;32m~\\AppData\\Local\\Temp\\ipykernel_16300\\3868633819.py\u001b[0m in \u001b[0;36mis_valid_email\u001b[1;34m(email)\u001b[0m\n\u001b[0;32m      4\u001b[0m \u001b[1;32mdef\u001b[0m \u001b[0mis_valid_email\u001b[0m\u001b[1;33m(\u001b[0m\u001b[0memail\u001b[0m\u001b[1;33m=\u001b[0m\u001b[1;34m\"mmmm@gmail.com\"\u001b[0m\u001b[1;33m)\u001b[0m\u001b[1;33m:\u001b[0m\u001b[1;33m\u001b[0m\u001b[1;33m\u001b[0m\u001b[0m\n\u001b[0;32m      5\u001b[0m     \u001b[1;32mwhile\u001b[0m \u001b[1;32mTrue\u001b[0m\u001b[1;33m:\u001b[0m\u001b[1;33m\u001b[0m\u001b[1;33m\u001b[0m\u001b[0m\n\u001b[1;32m----> 6\u001b[1;33m         \u001b[0memail\u001b[0m \u001b[1;33m=\u001b[0m \u001b[0minput\u001b[0m\u001b[1;33m(\u001b[0m\u001b[1;34m\"Enter your email: \"\u001b[0m\u001b[1;33m)\u001b[0m\u001b[1;33m\u001b[0m\u001b[1;33m\u001b[0m\u001b[0m\n\u001b[0m\u001b[0;32m      7\u001b[0m         \u001b[1;31m# Regular expression pattern for email validation\u001b[0m\u001b[1;33m\u001b[0m\u001b[1;33m\u001b[0m\u001b[1;33m\u001b[0m\u001b[0m\n\u001b[0;32m      8\u001b[0m         \u001b[0mpattern\u001b[0m \u001b[1;33m=\u001b[0m \u001b[1;34mr'\\b[A-Za-z0-9._%+-]+@[A-Za-z0-9.-]+\\.[A-Z|a-z]{2,7}\\b'\u001b[0m\u001b[1;33m\u001b[0m\u001b[1;33m\u001b[0m\u001b[0m\n",
      "\u001b[1;31mTypeError\u001b[0m: 'str' object is not callable"
     ]
    }
   ],
   "source": [
    "# test email validation\n",
    "import re\n",
    "\n",
    "def is_valid_email(email=\"mmmm@gmail.com\"):\n",
    "    while True:\n",
    "        email = input(\"Enter your email: \")\n",
    "        # Regular expression pattern for email validation\n",
    "        pattern = r'\\b[A-Za-z0-9._%+-]+@[A-Za-z0-9.-]+\\.[A-Z|a-z]{2,7}\\b'\n",
    "        \n",
    "\n",
    "        # Use the re.fullmatch function to match the pattern against the email\n",
    "        match = re.fullmatch(pattern, email)\n",
    "\n",
    "        # If there is a match, then it's a valid email\n",
    "        if match:\n",
    "            return True\n",
    "        else:\n",
    "            return False\n",
    "\n",
    "if __name__ == \"__main__\":\n",
    "    print(is_valid_email())"
   ]
  },
  {
   "cell_type": "code",
   "execution_count": 41,
   "metadata": {},
   "outputs": [
    {
     "ename": "TypeError",
     "evalue": "'str' object is not callable",
     "output_type": "error",
     "traceback": [
      "\u001b[1;31m---------------------------------------------------------------------------\u001b[0m",
      "\u001b[1;31mTypeError\u001b[0m                                 Traceback (most recent call last)",
      "\u001b[1;32m~\\AppData\\Local\\Temp\\ipykernel_16300\\3868633819.py\u001b[0m in \u001b[0;36m<module>\u001b[1;34m\u001b[0m\n\u001b[0;32m     19\u001b[0m \u001b[1;33m\u001b[0m\u001b[0m\n\u001b[0;32m     20\u001b[0m \u001b[1;32mif\u001b[0m \u001b[0m__name__\u001b[0m \u001b[1;33m==\u001b[0m \u001b[1;34m\"__main__\"\u001b[0m\u001b[1;33m:\u001b[0m\u001b[1;33m\u001b[0m\u001b[1;33m\u001b[0m\u001b[0m\n\u001b[1;32m---> 21\u001b[1;33m     \u001b[0mprint\u001b[0m\u001b[1;33m(\u001b[0m\u001b[0mis_valid_email\u001b[0m\u001b[1;33m(\u001b[0m\u001b[1;33m)\u001b[0m\u001b[1;33m)\u001b[0m\u001b[1;33m\u001b[0m\u001b[1;33m\u001b[0m\u001b[0m\n\u001b[0m",
      "\u001b[1;32m~\\AppData\\Local\\Temp\\ipykernel_16300\\3868633819.py\u001b[0m in \u001b[0;36mis_valid_email\u001b[1;34m(email)\u001b[0m\n\u001b[0;32m      4\u001b[0m \u001b[1;32mdef\u001b[0m \u001b[0mis_valid_email\u001b[0m\u001b[1;33m(\u001b[0m\u001b[0memail\u001b[0m\u001b[1;33m=\u001b[0m\u001b[1;34m\"mmmm@gmail.com\"\u001b[0m\u001b[1;33m)\u001b[0m\u001b[1;33m:\u001b[0m\u001b[1;33m\u001b[0m\u001b[1;33m\u001b[0m\u001b[0m\n\u001b[0;32m      5\u001b[0m     \u001b[1;32mwhile\u001b[0m \u001b[1;32mTrue\u001b[0m\u001b[1;33m:\u001b[0m\u001b[1;33m\u001b[0m\u001b[1;33m\u001b[0m\u001b[0m\n\u001b[1;32m----> 6\u001b[1;33m         \u001b[0memail\u001b[0m \u001b[1;33m=\u001b[0m \u001b[0minput\u001b[0m\u001b[1;33m(\u001b[0m\u001b[1;34m\"Enter your email: \"\u001b[0m\u001b[1;33m)\u001b[0m\u001b[1;33m\u001b[0m\u001b[1;33m\u001b[0m\u001b[0m\n\u001b[0m\u001b[0;32m      7\u001b[0m         \u001b[1;31m# Regular expression pattern for email validation\u001b[0m\u001b[1;33m\u001b[0m\u001b[1;33m\u001b[0m\u001b[1;33m\u001b[0m\u001b[0m\n\u001b[0;32m      8\u001b[0m         \u001b[0mpattern\u001b[0m \u001b[1;33m=\u001b[0m \u001b[1;34mr'\\b[A-Za-z0-9._%+-]+@[A-Za-z0-9.-]+\\.[A-Z|a-z]{2,7}\\b'\u001b[0m\u001b[1;33m\u001b[0m\u001b[1;33m\u001b[0m\u001b[0m\n",
      "\u001b[1;31mTypeError\u001b[0m: 'str' object is not callable"
     ]
    }
   ],
   "source": [
    "# test email validation\n",
    "import re\n",
    "\n",
    "def is_valid_email(email=\"mmmm@gmail.com\"):\n",
    "    while True:\n",
    "        email = input(\"Enter your email: \")\n",
    "        # Regular expression pattern for email validation\n",
    "        pattern = r'\\b[A-Za-z0-9._%+-]+@[A-Za-z0-9.-]+\\.[A-Z|a-z]{2,7}\\b'\n",
    "        \n",
    "\n",
    "        # Use the re.fullmatch function to match the pattern against the email\n",
    "        match = re.fullmatch(pattern, email)\n",
    "\n",
    "        # If there is a match, then it's a valid email\n",
    "        if match:\n",
    "            return True\n",
    "        else:\n",
    "            return False\n",
    "\n",
    "if __name__ == \"__main__\":\n",
    "    print(is_valid_email())"
   ]
  },
  {
   "cell_type": "code",
   "execution_count": 35,
   "metadata": {},
   "outputs": [
    {
     "name": "stdout",
     "output_type": "stream",
     "text": [
      "Valid Email\n",
      "Valid Email\n",
      "Invalid Email\n"
     ]
    }
   ],
   "source": [
    "\n",
    "import re\n",
    "import string\n",
    "\n",
    "# Make a regular expression\n",
    "# for validating an Email\n",
    "regex = r'\\b[A-Za-z0-9._%+-]+@[A-Za-z0-9.-]+\\.[A-Z|a-z]{2,7}\\b'\n",
    "\n",
    "# Define a function for\n",
    "# for validating an Email\n",
    "def check(email):\n",
    "\n",
    "\t# pass the regular expression\n",
    "\t# and the string into the fullmatch() method\n",
    "\tif(re.fullmatch(regex, email)):\n",
    "\t\tprint(\"Valid Email\")\n",
    "\n",
    "\telse:\n",
    "\t\tprint(\"Invalid Email\")\n",
    "\n",
    "# Driver Code\n",
    "if __name__ == '__main__':\n",
    "\n",
    "\t# Enter the email\n",
    "\temail = \"ankitrai326@gmail.com\"\n",
    "\n",
    "\t# calling run function\n",
    "\tcheck(email)\n",
    "\n",
    "\temail = \"my.ownsite@our-earth.org\"\n",
    "\tcheck(email)\n",
    "\n",
    "\temail = \"ankitrai326.com\"\n",
    "\tcheck(email)\n"
   ]
  },
  {
   "cell_type": "code",
   "execution_count": 43,
   "metadata": {},
   "outputs": [
    {
     "name": "stdout",
     "output_type": "stream",
     "text": [
      "zbF;!@ld,}0^j:Ko\n"
     ]
    }
   ],
   "source": [
    "#test password generator\n",
    "def generate_password():\n",
    "    import random\n",
    "    \n",
    "    lower_char = \"abcdefghijklmnopqrstuvwxyz\"\n",
    "    upper_char = lower_char.upper()\n",
    "    numbers = \"1234567890\"\n",
    "    symbols = \"[]{}()!@#$%^&*\\\\/.,\\';:\"\n",
    "    \n",
    "    all = lower_char + upper_char + numbers + symbols\n",
    "    length = 16\n",
    "    \n",
    "    password = \"\".join(random.sample(all,length))\n",
    "    \n",
    "    return password\n",
    "\n",
    "if __name__ == \"__main__\":\n",
    "    print(generate_password())\n"
   ]
  },
  {
   "cell_type": "code",
   "execution_count": 24,
   "metadata": {},
   "outputs": [
    {
     "ename": "TypeError",
     "evalue": "'str' object is not callable",
     "output_type": "error",
     "traceback": [
      "\u001b[1;31m---------------------------------------------------------------------------\u001b[0m",
      "\u001b[1;31mTypeError\u001b[0m                                 Traceback (most recent call last)",
      "\u001b[1;32m~\\AppData\\Local\\Temp\\ipykernel_16300\\1126293107.py\u001b[0m in \u001b[0;36m<module>\u001b[1;34m\u001b[0m\n\u001b[0;32m     47\u001b[0m                 \u001b[0mprint\u001b[0m\u001b[1;33m(\u001b[0m\u001b[1;34m\"you must enter 8 or more.\"\u001b[0m\u001b[1;33m)\u001b[0m\u001b[1;33m\u001b[0m\u001b[1;33m\u001b[0m\u001b[0m\n\u001b[0;32m     48\u001b[0m \u001b[1;32mif\u001b[0m \u001b[0m__name__\u001b[0m \u001b[1;33m==\u001b[0m \u001b[1;34m\"__main__\"\u001b[0m\u001b[1;33m:\u001b[0m\u001b[1;33m\u001b[0m\u001b[1;33m\u001b[0m\u001b[0m\n\u001b[1;32m---> 49\u001b[1;33m     \u001b[0mprint\u001b[0m\u001b[1;33m(\u001b[0m\u001b[0mcreate_password\u001b[0m\u001b[1;33m(\u001b[0m\u001b[1;33m)\u001b[0m\u001b[1;33m)\u001b[0m\u001b[1;33m\u001b[0m\u001b[1;33m\u001b[0m\u001b[0m\n\u001b[0m",
      "\u001b[1;32m~\\AppData\\Local\\Temp\\ipykernel_16300\\1126293107.py\u001b[0m in \u001b[0;36mcreate_password\u001b[1;34m(order)\u001b[0m\n\u001b[0;32m      3\u001b[0m         \u001b[0mpassword\u001b[0m  \u001b[0mtype\u001b[0m\u001b[0;31m \u001b[0m\u001b[0;31m\\\u001b[0m\u001b[0;31m\"\u001b[0m \u001b[0mgenerate\u001b[0m\u001b[0;31m\\\u001b[0m\u001b[0;31m\"\u001b[0m\u001b[0;31m \u001b[0m\u001b[0;31m\\\u001b[0m\u001b[1;33m\u001b[0m\u001b[1;33m\u001b[0m\u001b[0m\n\u001b[0;32m      4\u001b[0m             \u001b[0motherwise\u001b[0m \u001b[0menter\u001b[0m \u001b[0mthe\u001b[0m \u001b[0mcustom\u001b[0m \u001b[0mpassword\u001b[0m\u001b[0;31m \u001b[0m\u001b[0;31m\\\u001b[0m\u001b[1;33m\u001b[0m\u001b[1;33m\u001b[0m\u001b[0m\n\u001b[1;32m----> 5\u001b[1;33m                 type \\\" create\\\" \").strip()\n\u001b[0m\u001b[0;32m      6\u001b[0m \u001b[1;33m\u001b[0m\u001b[0m\n\u001b[0;32m      7\u001b[0m     \u001b[1;32mif\u001b[0m \u001b[0morder\u001b[0m \u001b[1;33m==\u001b[0m \u001b[1;34m\"generate\"\u001b[0m \u001b[1;32mor\u001b[0m \u001b[0morder\u001b[0m \u001b[1;33m!=\u001b[0m \u001b[1;34m\"create\"\u001b[0m\u001b[1;33m:\u001b[0m\u001b[1;33m\u001b[0m\u001b[1;33m\u001b[0m\u001b[0m\n",
      "\u001b[1;31mTypeError\u001b[0m: 'str' object is not callable"
     ]
    }
   ],
   "source": [
    "\n",
    "#test password creation\n",
    "\n",
    "def create_password(order = \"generate\"):\n",
    "    import random\n",
    "    import string\n",
    "    \n",
    "    order = input(\"enter your order if you want to auto generate \\\n",
    "        password  type \\\" generate\\\" \\\n",
    "            otherwise enter the custom password \\\n",
    "                type \\\" create\\\" \").strip()\n",
    "     \n",
    "    if order == \"generate\" or order != \"create\":\n",
    "        passwrd=generate_password()\n",
    "        return passwrd\n",
    "    else:\n",
    "        print(\"instructions : \\n \\\n",
    "            1. your password must contain numbers, characters, symbols \\n\\\n",
    "            2. @ least contain one upper character \\n\\\n",
    "            3. @ least contain one sympol\")\n",
    "        while True:\n",
    "            your_pass = input(\"enter your own password\").strip()\n",
    "            \n",
    "            lower_char = \"abcdefghijklmnopqrstuvwxyz\"\n",
    "            lower_char.split()\n",
    "            \n",
    "            upper_char = upper_char.upper()\n",
    "            upper_char.split()\n",
    "            \n",
    "            numbers = \"1234567890\"\n",
    "            numbers.split()\n",
    "            \n",
    "            symbols = \"[]{}()!@#$%^&*\\\\/.,\\';:\"\n",
    "            symbols.split()\n",
    "            \n",
    "            if len(your_pass) >= 8:\n",
    "                fupass = flpass = fspass = fnpass = 0\n",
    "                for i in upper_char: \n",
    "                    if i in your_pass:\n",
    "                        fupass+=1\n",
    "                for j in numbers :\n",
    "                    if j in your_pass:\n",
    "                        fnpass+=1\n",
    "                for k in symbols:\n",
    "                    if k in your_pass:\n",
    "                        fspass+=1\n",
    "                for z in lower_char:\n",
    "                    if z in lower_char :\n",
    "                        flpass+=1\n",
    "                if fupass>0 and flpass>0 and fspass>0 and fnpass>0:\n",
    "                    return your_pass \n",
    "            else:\n",
    "                print(\"you must enter 8 or more.\") \n",
    "if __name__ == \"__main__\":\n",
    "    print(create_password())           "
   ]
  },
  {
   "cell_type": "code",
   "execution_count": 45,
   "metadata": {},
   "outputs": [
    {
     "ename": "TypeError",
     "evalue": "'str' object is not callable",
     "output_type": "error",
     "traceback": [
      "\u001b[1;31m---------------------------------------------------------------------------\u001b[0m",
      "\u001b[1;31mTypeError\u001b[0m                                 Traceback (most recent call last)",
      "\u001b[1;32m~\\AppData\\Local\\Temp\\ipykernel_16300\\2933668322.py\u001b[0m in \u001b[0;36m<module>\u001b[1;34m\u001b[0m\n\u001b[0;32m     50\u001b[0m \u001b[1;33m\u001b[0m\u001b[0m\n\u001b[0;32m     51\u001b[0m \u001b[1;32mif\u001b[0m \u001b[0m__name__\u001b[0m \u001b[1;33m==\u001b[0m \u001b[1;34m\"__main__\"\u001b[0m\u001b[1;33m:\u001b[0m\u001b[1;33m\u001b[0m\u001b[1;33m\u001b[0m\u001b[0m\n\u001b[1;32m---> 52\u001b[1;33m     \u001b[0mprint\u001b[0m\u001b[1;33m(\u001b[0m\u001b[0mcreate_password\u001b[0m\u001b[1;33m(\u001b[0m\u001b[1;33m)\u001b[0m\u001b[1;33m)\u001b[0m\u001b[1;33m\u001b[0m\u001b[1;33m\u001b[0m\u001b[0m\n\u001b[0m",
      "\u001b[1;32m~\\AppData\\Local\\Temp\\ipykernel_16300\\2933668322.py\u001b[0m in \u001b[0;36mcreate_password\u001b[1;34m()\u001b[0m\n\u001b[0;32m      3\u001b[0m     \u001b[1;32mimport\u001b[0m \u001b[0mstring\u001b[0m\u001b[1;33m\u001b[0m\u001b[1;33m\u001b[0m\u001b[0m\n\u001b[0;32m      4\u001b[0m \u001b[1;33m\u001b[0m\u001b[0m\n\u001b[1;32m----> 5\u001b[1;33m     order = input(\"Enter 'generate' to auto-generate a password, \"\n\u001b[0m\u001b[0;32m      6\u001b[0m                   \"otherwise enter 'create' to input your own password: \").strip().lower()\n\u001b[0;32m      7\u001b[0m \u001b[1;33m\u001b[0m\u001b[0m\n",
      "\u001b[1;31mTypeError\u001b[0m: 'str' object is not callable"
     ]
    }
   ],
   "source": [
    "def create_password():\n",
    "    import random\n",
    "    import string\n",
    "    \n",
    "    order = input(\"Enter 'generate' to auto-generate a password, \"\n",
    "                  \"otherwise enter 'create' to input your own password: \").strip().lower()\n",
    "    \n",
    "    if order == \"generate\" or order != \"create\":\n",
    "        return generate_password()\n",
    "    else:\n",
    "        print(\"Instructions:\\n\"\n",
    "              \"1. Your password must contain numbers, characters, and symbols.\\n\"\n",
    "              \"2. It should contain at least one uppercase character.\\n\"\n",
    "              \"3. It should contain at least one symbol.\")\n",
    "        \n",
    "        while True:\n",
    "            your_pass = input(\"Enter your own password: \").strip()\n",
    "            \n",
    "            lower_char = string.ascii_lowercase\n",
    "            upper_char = string.ascii_uppercase\n",
    "            numbers = string.digits\n",
    "            symbols = \"[]{}()!@#$%^&*\\\\/.,';:\"\n",
    "            \n",
    "            if len(your_pass) >= 8:\n",
    "                fupass = flpass = fspass = fnpass = 0\n",
    "                for i in upper_char: \n",
    "                    if i in your_pass:\n",
    "                        fupass += 1\n",
    "                        break\n",
    "                for j in numbers:\n",
    "                    if j in your_pass:\n",
    "                        fnpass += 1\n",
    "                        break\n",
    "                for k in symbols:\n",
    "                    if k in your_pass:\n",
    "                        fspass += 1\n",
    "                        break\n",
    "                for z in lower_char:\n",
    "                    if z in your_pass:\n",
    "                        flpass += 1\n",
    "                        break\n",
    "                \n",
    "                if fupass > 0 and flpass > 0 and fspass > 0 and fnpass > 0:\n",
    "                    return your_pass\n",
    "                else:\n",
    "                    print(\"Your password must contain at least one uppercase character, \"\n",
    "                          \"one lowercase character, one symbol, and one number.\")\n",
    "            else:\n",
    "                print(\"Your password must be 8 characters or longer.\")\n",
    "\n",
    "if __name__ == \"__main__\":\n",
    "    print(create_password())"
   ]
  },
  {
   "cell_type": "code",
   "execution_count": 26,
   "metadata": {},
   "outputs": [
    {
     "ename": "TypeError",
     "evalue": "'str' object is not callable",
     "output_type": "error",
     "traceback": [
      "\u001b[1;31m---------------------------------------------------------------------------\u001b[0m",
      "\u001b[1;31mTypeError\u001b[0m                                 Traceback (most recent call last)",
      "\u001b[1;32m~\\AppData\\Local\\Temp\\ipykernel_16300\\1205867797.py\u001b[0m in \u001b[0;36m<module>\u001b[1;34m\u001b[0m\n\u001b[0;32m     10\u001b[0m         \u001b[0mprint\u001b[0m\u001b[1;33m(\u001b[0m\u001b[1;34m\"--- not valid date ----\"\u001b[0m\u001b[1;33m)\u001b[0m\u001b[1;33m\u001b[0m\u001b[1;33m\u001b[0m\u001b[0m\n\u001b[0;32m     11\u001b[0m \u001b[1;32mif\u001b[0m \u001b[0m__name__\u001b[0m \u001b[1;33m==\u001b[0m \u001b[1;34m\"__main__\"\u001b[0m\u001b[1;33m:\u001b[0m\u001b[1;33m\u001b[0m\u001b[1;33m\u001b[0m\u001b[0m\n\u001b[1;32m---> 12\u001b[1;33m     \u001b[0mmessage\u001b[0m \u001b[1;33m=\u001b[0m \u001b[0minput\u001b[0m\u001b[1;33m(\u001b[0m\u001b[1;34m\"enter your message : \"\u001b[0m\u001b[1;33m)\u001b[0m\u001b[1;33m\u001b[0m\u001b[1;33m\u001b[0m\u001b[0m\n\u001b[0m\u001b[0;32m     13\u001b[0m     \u001b[0mprint\u001b[0m\u001b[1;33m(\u001b[0m\u001b[0maskfordate\u001b[0m\u001b[1;33m(\u001b[0m\u001b[0mmessage\u001b[0m\u001b[1;33m)\u001b[0m\u001b[1;33m)\u001b[0m\u001b[1;33m\u001b[0m\u001b[1;33m\u001b[0m\u001b[0m\n",
      "\u001b[1;31mTypeError\u001b[0m: 'str' object is not callable"
     ]
    }
   ],
   "source": [
    "#test date\n",
    "\n",
    "def askfordate(message): \n",
    "    import re\n",
    "    while True: \n",
    "        inputdate = input(message+\"like dd/mm/yyy\") \n",
    "        \n",
    "        pattern = r\"\\d{4}/\\d{2}/\\d{2}\"\n",
    "        if re.fullmatch(pattern, inputdate):\n",
    "            return inputdate \n",
    "        \n",
    "        print(\"--- not valid date ----\")\n",
    "        \n",
    "if __name__ == \"__main__\":\n",
    "    message = input(\"enter your message : \")\n",
    "    print(askfordate(message))           "
   ]
  },
  {
   "cell_type": "code",
   "execution_count": 46,
   "metadata": {},
   "outputs": [
    {
     "ename": "TypeError",
     "evalue": "'str' object is not callable",
     "output_type": "error",
     "traceback": [
      "\u001b[1;31m---------------------------------------------------------------------------\u001b[0m",
      "\u001b[1;31mTypeError\u001b[0m                                 Traceback (most recent call last)",
      "\u001b[1;32m~\\AppData\\Local\\Temp\\ipykernel_16300\\3208357728.py\u001b[0m in \u001b[0;36m<module>\u001b[1;34m\u001b[0m\n\u001b[0;32m     14\u001b[0m             \u001b[0mprint\u001b[0m\u001b[1;33m(\u001b[0m\u001b[1;34m\"Invalid Egyptian phone number. Please enter a valid number in the format 01X XXXX XXXX.\"\u001b[0m\u001b[1;33m)\u001b[0m\u001b[1;33m\u001b[0m\u001b[1;33m\u001b[0m\u001b[0m\n\u001b[0;32m     15\u001b[0m \u001b[1;32mif\u001b[0m \u001b[0m__name__\u001b[0m \u001b[1;33m==\u001b[0m \u001b[1;34m\"__main__\"\u001b[0m\u001b[1;33m:\u001b[0m\u001b[1;33m\u001b[0m\u001b[1;33m\u001b[0m\u001b[0m\n\u001b[1;32m---> 16\u001b[1;33m     \u001b[0mphone_number\u001b[0m \u001b[1;33m=\u001b[0m \u001b[0minput\u001b[0m\u001b[1;33m(\u001b[0m\u001b[1;34m\"Enter your Egyptian phone number (01X XXXX XXXX): \"\u001b[0m\u001b[1;33m)\u001b[0m\u001b[1;33m\u001b[0m\u001b[1;33m\u001b[0m\u001b[0m\n\u001b[0m\u001b[0;32m     17\u001b[0m \u001b[1;33m\u001b[0m\u001b[0m\n",
      "\u001b[1;31mTypeError\u001b[0m: 'str' object is not callable"
     ]
    }
   ],
   "source": [
    "def is_valid_egyptian_phone_number(phone_number):\n",
    "    while True:\n",
    "        # Regular expression pattern for Egyptian phone numbers\n",
    "        pattern = r'^01[0-9]{9}$'\n",
    "\n",
    "        # Use the `re.fullmatch` function to match the pattern against the phone number\n",
    "        match = re.fullmatch(pattern, phone_number)\n",
    "\n",
    "        # If there is a match, then it's a valid Egyptian phone number\n",
    "        if match:\n",
    "            x = \"Valid Egyptian phone number!\"\n",
    "            return x\n",
    "        else:\n",
    "            print(\"Invalid Egyptian phone number. Please enter a valid number in the format 01X XXXX XXXX.\")\n",
    "if __name__ == \"__main__\":\n",
    "    phone_number = input(\"Enter your Egyptian phone number (01X XXXX XXXX): \")\n",
    "    \n"
   ]
  },
  {
   "cell_type": "markdown",
   "metadata": {},
   "source": [
    "2. Login \n",
    "    1. The user should be able to login after activation using his email and password  \n"
   ]
  },
  {
   "cell_type": "code",
   "execution_count": null,
   "metadata": {},
   "outputs": [],
   "source": [
    "# Dictionary to store registered users' email and password\n",
    "registered_users = {}\n",
    "\n",
    "def register_user():\n",
    "    email = input(\"Enter your email: \")\n",
    "    password = input(\"Enter your password: \")\n",
    "\n",
    "    # Store the email and password in the dictionary\n",
    "    registered_users[email] = password\n",
    "    print(\"Account registered successfully!\")\n",
    "\n",
    "def login():\n",
    "    email = input(\"Enter your email: \")\n",
    "    password = input(\"Enter your password: \")\n",
    "\n",
    "    # Check if the email is registered and the password is correct\n",
    "    if email in registered_users and registered_users[email] == password:\n",
    "        print(\"Login successful!\")\n",
    "    else:\n",
    "        print(\"Invalid email or password. Please try again.\")\n",
    "\n",
    "if __name__ == \"__main__\":\n",
    "    # Registration phase\n",
    "    print(\"Registration:\")\n",
    "    register_user()\n",
    "\n",
    "    # Login phase\n",
    "    print(\"\\nLogin:\")\n",
    "    login()\n"
   ]
  },
  {
   "cell_type": "code",
   "execution_count": null,
   "metadata": {},
   "outputs": [],
   "source": []
  },
  {
   "cell_type": "markdown",
   "metadata": {},
   "source": [
    "2. Projects: \n",
    "    1. The user can create a project fund raise campaign which contains: \n",
    "        1. Title \n",
    "        2. Details \n",
    "        3. Total target (i.e 250000 EGP) \n",
    "        5. Set start/end time for the campaign (validate the date formula) \n",
    "    \n",
    "    1. User can view all projects \n",
    "    2. User can edit his own projects \n",
    "    3. User can delete his own project \n",
    "    4. User can search for a project using date (bonus)  "
   ]
  },
  {
   "cell_type": "code",
   "execution_count": null,
   "metadata": {},
   "outputs": [],
   "source": []
  },
  {
   "cell_type": "markdown",
   "metadata": {},
   "source": [
    "# Similar Projects to get some inspiration :\n",
    "(https://www.gofundme.com)<br> \n",
    "(https://www.kickstarter.com)<br>   \n",
    "(https://www.crowdfunding.com)<br> "
   ]
  }
 ],
 "metadata": {
  "kernelspec": {
   "display_name": "pytaskitivenv",
   "language": "python",
   "name": "python3"
  },
  "language_info": {
   "codemirror_mode": {
    "name": "ipython",
    "version": 3
   },
   "file_extension": ".py",
   "mimetype": "text/x-python",
   "name": "python",
   "nbconvert_exporter": "python",
   "pygments_lexer": "ipython3",
   "version": "3.7.8"
  },
  "orig_nbformat": 4
 },
 "nbformat": 4,
 "nbformat_minor": 2
}
