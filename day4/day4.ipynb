{
 "cells": [
  {
   "cell_type": "markdown",
   "metadata": {},
   "source": [
    "# Crowd-Funding console app "
   ]
  },
  {
   "cell_type": "markdown",
   "metadata": {},
   "source": [
    "1. Crowdfunding is the practice of funding a project or venture by raising small amounts of money from a large number of people typically via the Internet.<br> \n",
    "2. Crowdfunding is  a form of crowdsourcing and alternative finance. In 2015, over US$34 billion was raised worldwide by crowdfunding.(From [Wikipedia](https://en.wikipedia.org/wiki/Crowdfunding))<br>"
   ]
  },
  {
   "cell_type": "markdown",
   "metadata": {},
   "source": [
    "The aim of the project: \n",
    "1. Create a console app to start fundraise projects. "
   ]
  },
  {
   "cell_type": "markdown",
   "metadata": {},
   "source": [
    "The app should include the following features: "
   ]
  },
  {
   "cell_type": "markdown",
   "metadata": {},
   "source": [
    "1. Authentication System: \n",
    "    1. Registration: \n",
    "        1. First name \n",
    "        2. Last name \n",
    "        3. Email \n",
    "        4. Password \n",
    "        5. Confirm password \n",
    "        6. Mobile phone [validated against Egyptian phone numbers]   "
   ]
  },
  {
   "cell_type": "code",
   "execution_count": null,
   "metadata": {},
   "outputs": [],
   "source": []
  },
  {
   "cell_type": "markdown",
   "metadata": {},
   "source": [
    "2. Login \n",
    "    1. The user should be able to login after activation using his email and password  \n"
   ]
  },
  {
   "cell_type": "code",
   "execution_count": null,
   "metadata": {},
   "outputs": [],
   "source": []
  },
  {
   "cell_type": "markdown",
   "metadata": {},
   "source": [
    "2. Projects: \n",
    "    1. The user can create a project fund raise campaign which contains: \n",
    "        1. Title \n",
    "        2. Details \n",
    "        3. Total target (i.e 250000 EGP) \n",
    "        5. Set start/end time for the campaign (validate the date formula) \n",
    "    \n",
    "    1. User can view all projects \n",
    "    2. User can edit his own projects \n",
    "    3. User can delete his own project \n",
    "    4. User can search for a project using date (bonus)  "
   ]
  },
  {
   "cell_type": "code",
   "execution_count": null,
   "metadata": {},
   "outputs": [],
   "source": []
  },
  {
   "cell_type": "markdown",
   "metadata": {},
   "source": [
    "# Similar Projects to get some inspiration :\n",
    "(https://www.gofundme.com)<br> \n",
    "(https://www.kickstarter.com)<br>   \n",
    "(https://www.crowdfunding.com)<br> "
   ]
  }
 ],
 "metadata": {
  "kernelspec": {
   "display_name": "pytaskitivenv",
   "language": "python",
   "name": "python3"
  },
  "language_info": {
   "name": "python",
   "version": "3.7.8"
  },
  "orig_nbformat": 4
 },
 "nbformat": 4,
 "nbformat_minor": 2
}
