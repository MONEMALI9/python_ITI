{
 "cells": [
  {
   "cell_type": "markdown",
   "metadata": {},
   "source": [
    "# Lab01"
   ]
  },
  {
   "cell_type": "markdown",
   "metadata": {},
   "source": [
    "## Before you start you should install the python interpreter and vscode or pycharm"
   ]
  },
  {
   "cell_type": "markdown",
   "metadata": {},
   "source": [
    "Q1 : add your info in Variables then print them.\n",
    "1. firstname\n",
    "2. lastname\n",
    "3. email\n",
    "4. address\n",
    "5. intake"
   ]
  },
  {
   "cell_type": "code",
   "execution_count": 5,
   "metadata": {},
   "outputs": [
    {
     "name": "stdout",
     "output_type": "stream",
     "text": [
      "Monem Elmongy , monem921999@gmail.com , mansoura , Q1 intake 44\n"
     ]
    }
   ],
   "source": [
    "fname = \"Monem\"\n",
    "lname = \"Elmongy\"\n",
    "email = \"monem921999@gmail.com\"\n",
    "address = \"mansoura\"\n",
    "intake = \"Q1 intake 44\"\n",
    "info = \"{} {} , {} , {} , {}\".format(fname,lname,email,address,intake)\n",
    "print(info)"
   ]
  },
  {
   "cell_type": "markdown",
   "metadata": {},
   "source": [
    "Q2 : write a paragraph about yourself in 5 lines -make\n",
    "sure that the string is stored as a multiline string"
   ]
  },
  {
   "cell_type": "code",
   "execution_count": null,
   "metadata": {},
   "outputs": [],
   "source": []
  },
  {
   "cell_type": "markdown",
   "metadata": {},
   "source": [
    "Q3 : Given the total marks of a student→ write a\n",
    "program that prints the grade of a student as follows:\n",
    "\n",
    "1. Grade < 60 failed.\n",
    "2. Grade > 60 passed.\n",
    "3. Grade > 65 Good.\n",
    "4. Grade > 75 very good.\n",
    "5. Grade > 85 Excellent."
   ]
  },
  {
   "cell_type": "code",
   "execution_count": 42,
   "metadata": {},
   "outputs": [
    {
     "name": "stdout",
     "output_type": "stream",
     "text": [
      "failed\n"
     ]
    }
   ],
   "source": [
    "grade = int(input(\"enter your grade : \"))\n",
    "#grade = 50\n",
    "if grade < 60:\n",
    "    print(\"failed\")\n",
    "elif grade > 60 and grade < 65:\n",
    "    print(\"passed\")\n",
    "elif grade > 65 and grade < 75:\n",
    "    print(\"good\")\n",
    "elif grade > 75 and grade < 85:\n",
    "    print(\"very good\")\n",
    "elif grade > 85 and grade <= 100:\n",
    "    print(\"Excellent\")\n",
    "else:\n",
    "    print(\"error .... try again\")"
   ]
  },
  {
   "cell_type": "markdown",
   "metadata": {},
   "source": [
    "Q4 : Write a program that prints the weather state according to the temperature\n",
    "1. If the temperature > 25 then print “the weather is hot”\n",
    "2. If the temperature < 25 print “the weather is cold”\n",
    "3. If the temperature = 25 then print the “weather is fine”"
   ]
  },
  {
   "cell_type": "code",
   "execution_count": 2,
   "metadata": {},
   "outputs": [
    {
     "name": "stdout",
     "output_type": "stream",
     "text": [
      "the weather is hot\n"
     ]
    }
   ],
   "source": [
    "#temp = int(input(\"enter your grade : \"))\n",
    "temp = 50\n",
    "if temp > 25:\n",
    "    print(\"the weather is hot\")\n",
    "elif temp < 25:\n",
    "    print(\"he weather is cold\")\n",
    "elif temp == 25 :\n",
    "    print(\"weather is fine\")\n",
    "else:\n",
    "    print(\"error .... try again\")"
   ]
  },
  {
   "cell_type": "markdown",
   "metadata": {},
   "source": [
    "5- write a program that checks if the number is greater\n",
    "than 0 and then prints positive else prints negative"
   ]
  },
  {
   "cell_type": "code",
   "execution_count": 3,
   "metadata": {},
   "outputs": [
    {
     "name": "stdout",
     "output_type": "stream",
     "text": [
      "positive\n"
     ]
    }
   ],
   "source": [
    "#num = int(input(\"enter your number that you want to check if positve\"))\n",
    "num = 5\n",
    "if num > 0:\n",
    "    print(\"positive\")\n",
    "elif num < 0:\n",
    "    print(\"negative\")\n",
    "else :\n",
    "    print(\"zero\")\n"
   ]
  },
  {
   "cell_type": "markdown",
   "metadata": {},
   "source": [
    "6- print the types of variables you entered before"
   ]
  },
  {
   "cell_type": "code",
   "execution_count": 6,
   "metadata": {},
   "outputs": [
    {
     "name": "stdout",
     "output_type": "stream",
     "text": [
      "<class 'str'>\n",
      "<class 'str'>\n",
      "<class 'str'>\n",
      "<class 'str'>\n",
      "<class 'str'>\n",
      "<class 'str'>\n",
      "<class 'int'>\n",
      "<class 'int'>\n",
      "<class 'int'>\n"
     ]
    }
   ],
   "source": [
    "print(type(fname))\n",
    "print(type(lname))\n",
    "print(type(email))\n",
    "print(type(address))\n",
    "print(type(intake))\n",
    "print(type(info))\n",
    "print(type(grade))\n",
    "print(type(temp))\n",
    "print(type(num))"
   ]
  },
  {
   "cell_type": "markdown",
   "metadata": {},
   "source": [
    "7- given 2 numbers<br>\n",
    "Num1 = 10<br>\n",
    "Num2 = 20<br>\n",
    "Calculate the sum, diff, multiply, and division of the 2 numbers.\n"
   ]
  },
  {
   "cell_type": "code",
   "execution_count": 7,
   "metadata": {},
   "outputs": [
    {
     "name": "stdout",
     "output_type": "stream",
     "text": [
      "30 -10 200 0.5\n"
     ]
    }
   ],
   "source": [
    "num1 = 10\n",
    "num2 = 20\n",
    "sum = num1+num2\n",
    "sub = num1-num2\n",
    "mul = num1*num2\n",
    "div = num1/num2\n",
    "print(sum,sub,mul,div)"
   ]
  },
  {
   "cell_type": "markdown",
   "metadata": {},
   "source": [
    "8- ask the user to enter the name of the day\n",
    "1. If he entered Sunday then print(‘wish you a good week ’)\n",
    "2. If he entered Tuesday then print(‘The weekend is near ’)\n",
    "3. he entered Friday then print(‘enjoy your weekend’)\n",
    "4. If he entered other day print(‘ma3lsh’)\n",
    "5. If entered not valid day —> please enter day again."
   ]
  },
  {
   "cell_type": "code",
   "execution_count": 8,
   "metadata": {},
   "outputs": [
    {
     "name": "stdout",
     "output_type": "stream",
     "text": [
      "wish you a good week\n"
     ]
    }
   ],
   "source": [
    "#NameOfDay = input(\"enter the name of day\")\n",
    "NameOfDay = \"Sunday\"\n",
    "if NameOfDay == \"Sunday\":\n",
    "    print(\"wish you a good week\")\n",
    "elif NameOfDay == \"Tuesday\":\n",
    "    print(\"The weekend is near\")\n",
    "elif NameOfDay == \"Friday\":\n",
    "    print(\"Enjoy your weekend\")\n",
    "elif NameOfDay == \"Saturday\" or NameOfDay == \"monday\" or NameOfDay == \"thursday\" or NameOfDay == \"wednesday\":\n",
    "    print(\"mal3sh\")\n",
    "else:\n",
    "    print(\"try.......again\")"
   ]
  },
  {
   "cell_type": "markdown",
   "metadata": {},
   "source": [
    "Q9 : ask the user to enter his name then print ‘Nice to meet you name’"
   ]
  },
  {
   "cell_type": "code",
   "execution_count": 10,
   "metadata": {},
   "outputs": [
    {
     "name": "stdout",
     "output_type": "stream",
     "text": [
      "Nice to meet you , monem\n"
     ]
    }
   ],
   "source": [
    "#user_name = input(\"enter your name\")\n",
    "user_name = \"monem\"\n",
    "bye = \"Nice to meet you , {}\".format(user_name)\n",
    "print(bye)"
   ]
  },
  {
   "cell_type": "markdown",
   "metadata": {},
   "source": [
    "Q10 : ask user to enter his firstname then ask him to enter midname then ask him to enter lastname Then print fullname\n"
   ]
  },
  {
   "cell_type": "code",
   "execution_count": 11,
   "metadata": {},
   "outputs": [
    {
     "name": "stdout",
     "output_type": "stream",
     "text": [
      "monem ali elmongy\n"
     ]
    }
   ],
   "source": [
    "#user_fname = input(\"enter your first name\")\n",
    "#user_mname = input(\"enter your middle name\")\n",
    "#user_lname = input(\"enter your last name\")\n",
    "user_fname = \"monem\"\n",
    "user_mname = \"ali\"\n",
    "user_lname = \"elmongy\"\n",
    "print(\"{} {} {}\".format(user_fname,user_mname,user_lname))"
   ]
  },
  {
   "cell_type": "markdown",
   "metadata": {},
   "source": [
    "Q11 : ask the user to enter his age and if he enters it correctly then multiply the age by 10 and print the\n",
    "result."
   ]
  },
  {
   "cell_type": "code",
   "execution_count": 22,
   "metadata": {},
   "outputs": [
    {
     "name": "stdout",
     "output_type": "stream",
     "text": [
      "data that you entered is not numeric\n"
     ]
    }
   ],
   "source": [
    "#user_age = int(input(\"enter your age\"))\n",
    "user_age = True\n",
    "check_age = str(user_age)\n",
    "if check_age.isnumeric():\n",
    "    print(user_age*10)\n",
    "else:\n",
    "    print(\"data that you entered is not numeric\")"
   ]
  },
  {
   "cell_type": "markdown",
   "metadata": {},
   "source": [
    "Q12 : ask the user to enter 2 numbers num1 and num2 make sure that he enter them as numbers and if all is\n",
    "ok print the multiplication them."
   ]
  },
  {
   "cell_type": "code",
   "execution_count": 24,
   "metadata": {},
   "outputs": [
    {
     "name": "stdout",
     "output_type": "stream",
     "text": [
      "200\n"
     ]
    }
   ],
   "source": [
    "#fnum = int(input(\"enter first number\"))\n",
    "fnum = 10\n",
    "#snum = int(input(\"enter second number\"))\n",
    "snum = 20\n",
    "if str(fnum).isnumeric() and str(snum).isnumeric():\n",
    "    print(fnum*snum)\n",
    "else:\n",
    "    print(\"error ....\")"
   ]
  },
  {
   "cell_type": "markdown",
   "metadata": {},
   "source": [
    "## Part 02 "
   ]
  },
  {
   "cell_type": "markdown",
   "metadata": {},
   "source": [
    "Q1 : Ask the user to enter his name."
   ]
  },
  {
   "cell_type": "code",
   "execution_count": 2,
   "metadata": {},
   "outputs": [],
   "source": [
    "#uname = input(\"enter your name : \")\n",
    "uname = \"monem\""
   ]
  },
  {
   "cell_type": "markdown",
   "metadata": {},
   "source": [
    "Q2 : Count the number of letters in the name he entered."
   ]
  },
  {
   "cell_type": "code",
   "execution_count": 3,
   "metadata": {},
   "outputs": [
    {
     "name": "stdout",
     "output_type": "stream",
     "text": [
      "5\n"
     ]
    }
   ],
   "source": [
    "print(len(uname))"
   ]
  },
  {
   "cell_type": "markdown",
   "metadata": {},
   "source": [
    "3.Count the number of letters “o” in his name if exists and print the count."
   ]
  },
  {
   "cell_type": "code",
   "execution_count": 4,
   "metadata": {},
   "outputs": [
    {
     "name": "stdout",
     "output_type": "stream",
     "text": [
      "1\n"
     ]
    }
   ],
   "source": [
    "count = 0\n",
    "for i in uname:\n",
    "    if i == 'o':\n",
    "        count+=1\n",
    "if count:\n",
    "    print(count)\n",
    "else:\n",
    "    print(\"No occurrence of o found\")"
   ]
  },
  {
   "cell_type": "code",
   "execution_count": 5,
   "metadata": {},
   "outputs": [
    {
     "data": {
      "text/plain": [
       "1"
      ]
     },
     "execution_count": 5,
     "metadata": {},
     "output_type": "execute_result"
    }
   ],
   "source": [
    "#string.count(value, start, end)\n",
    "\n",
    "uname.count('o')\n"
   ]
  },
  {
   "cell_type": "markdown",
   "metadata": {},
   "source": [
    "Q4 : Print the character at index 6 of the name if it exists if not, the print message says that there\n",
    "is no character at index 6"
   ]
  },
  {
   "cell_type": "code",
   "execution_count": 29,
   "metadata": {},
   "outputs": [
    {
     "name": "stdout",
     "output_type": "stream",
     "text": [
      "n\n"
     ]
    }
   ],
   "source": [
    "#num_index = int(input(\"number of index : \"))\n",
    "num_index = 2\n",
    "if len(uname) < num_index:\n",
    "    print('Username must be at least', str(num_index), 'characters long.')\n",
    "else:\n",
    "    print(uname[num_index])"
   ]
  },
  {
   "cell_type": "markdown",
   "metadata": {},
   "source": [
    "Q5 : Ask the user to enter the radius of a circle"
   ]
  },
  {
   "cell_type": "code",
   "execution_count": 30,
   "metadata": {},
   "outputs": [],
   "source": [
    "#radius_circle = int(input(\"enter number of radius_circle\"))\n",
    "radius_circle = 5"
   ]
  },
  {
   "cell_type": "markdown",
   "metadata": {},
   "source": [
    "Q6 : Calculate the circumference and the area of the circle."
   ]
  },
  {
   "cell_type": "code",
   "execution_count": 32,
   "metadata": {},
   "outputs": [
    {
     "name": "stdout",
     "output_type": "stream",
     "text": [
      "circumference  = 31.41592653589793\n"
     ]
    }
   ],
   "source": [
    "import numpy as np\n",
    "pi = np.pi\n",
    "print(\"circumference  = {}\".format(2*pi*radius_circle))"
   ]
  },
  {
   "cell_type": "markdown",
   "metadata": {},
   "source": [
    "Q7 : Ask the user to enter the length and the height of a rectangle and calculate the circumference and the area."
   ]
  },
  {
   "cell_type": "code",
   "execution_count": 35,
   "metadata": {},
   "outputs": [
    {
     "name": "stdout",
     "output_type": "stream",
     "text": [
      "the circumference of rectangle = 30\n",
      "the area of rectangle = 50\n"
     ]
    }
   ],
   "source": [
    "#length = float(input(\"enter the length : \"))\n",
    "length = 5\n",
    "#height = float(input(\"enter the height : \"))\n",
    "height = 10\n",
    "\n",
    "circumference = (length+height)*2\n",
    "print(\"the circumference of rectangle = {}\".format(circumference))\n",
    "print(\"the area of rectangle = {}\".format(length*height))"
   ]
  },
  {
   "cell_type": "markdown",
   "metadata": {},
   "source": [
    "Q8 : Ask the user to enter his first name, and last name and print the full name using format\n",
    "string and concatenation"
   ]
  },
  {
   "cell_type": "code",
   "execution_count": 36,
   "metadata": {},
   "outputs": [
    {
     "name": "stdout",
     "output_type": "stream",
     "text": [
      "monem elmongy\n",
      "monem elmongy\n"
     ]
    }
   ],
   "source": [
    "firstname = \"monem\"\n",
    "lastname = \"elmongy\"\n",
    "print(firstname+ \" \" + lastname)\n",
    "print(\"{} {}\".format(firstname,lastname))"
   ]
  },
  {
   "cell_type": "markdown",
   "metadata": {},
   "source": [
    "jupyter nbconvert testnotebook.ipynb --to python"
   ]
  },
  {
   "cell_type": "code",
   "execution_count": 38,
   "metadata": {},
   "outputs": [
    {
     "name": "stderr",
     "output_type": "stream",
     "text": [
      "[NbConvertApp] Converting notebook lab1.ipynb to script\n",
      "[NbConvertApp] Writing 6405 bytes to lab1.py\n"
     ]
    }
   ],
   "source": [
    "!jupyter nbconvert --to script lab1.ipynb"
   ]
  },
  {
   "cell_type": "code",
   "execution_count": 39,
   "metadata": {},
   "outputs": [],
   "source": [
    "#!jupyter nbconvert --to latex Ford_Go_Bike_Part1.ipynb"
   ]
  },
  {
   "cell_type": "code",
   "execution_count": 40,
   "metadata": {},
   "outputs": [],
   "source": [
    "#!jupyter nbconvert --to html --no-input Ford_Go_Bike_Part1.ipynb  "
   ]
  }
 ],
 "metadata": {
  "kernelspec": {
   "display_name": "Python 3 (ipykernel)",
   "language": "python",
   "name": "python3"
  },
  "language_info": {
   "codemirror_mode": {
    "name": "ipython",
    "version": 3
   },
   "file_extension": ".py",
   "mimetype": "text/x-python",
   "name": "python",
   "nbconvert_exporter": "python",
   "pygments_lexer": "ipython3",
   "version": "3.7.8"
  }
 },
 "nbformat": 4,
 "nbformat_minor": 2
}
