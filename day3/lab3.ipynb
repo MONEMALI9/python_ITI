{
 "cells": [
  {
   "cell_type": "markdown",
   "metadata": {},
   "source": [
    "1. Write a function that accepts two arguments (length, start) to\n",
    "generate an array of a specific length filled with integer numbers\n",
    "increased by one from start"
   ]
  },
  {
   "cell_type": "code",
   "execution_count": 4,
   "metadata": {},
   "outputs": [],
   "source": [
    "def generate_array(length,start):\n",
    "    if length.isdigit() and start.isdigit():\n",
    "        length = int(length)\n",
    "        l = []\n",
    "        while length:\n",
    "            start = int(start)\n",
    "            l.append(start)\n",
    "            start +=1\n",
    "            length -= 1\n",
    "    else:\n",
    "        x = \"Please enter a valid integer\"\n",
    "        return x\n",
    "    return l"
   ]
  },
  {
   "cell_type": "code",
   "execution_count": 5,
   "metadata": {},
   "outputs": [
    {
     "name": "stdout",
     "output_type": "stream",
     "text": [
      "[1, 2, 3, 4, 5]\n"
     ]
    }
   ],
   "source": [
    "## main\n",
    "if __name__== \"__main__\":\n",
    "    length = input(\"enter array length : \")\n",
    "    start = input(\"enter the begin of array : \")\n",
    "    print(generate_array(length,start))"
   ]
  },
  {
   "cell_type": "markdown",
   "metadata": {},
   "source": [
    "2. write a function that takes a number as an argument and if the\n",
    "number divisible by 3 return \"Fizz\" and if it is divisible by 5 return\n",
    "\"buzz\" and if is is divisible by both return \"FizzBuzz\""
   ]
  },
  {
   "cell_type": "code",
   "execution_count": 6,
   "metadata": {},
   "outputs": [],
   "source": [
    "def divisable(num):\n",
    "    if num.isnumeric():\n",
    "        num = int(num)\n",
    "        if num%3 == 0 and num%5 == 0:\n",
    "            x = \"FizzBuzz\"\n",
    "            return x\n",
    "        elif num%3 == 0:\n",
    "            x = \"Fizz\"\n",
    "            return x\n",
    "        elif num%5 == 0:\n",
    "            x = \"buzz\"\n",
    "            return x\n",
    "    else:\n",
    "        x = \"Please enter a valid integer\"\n",
    "        return x"
   ]
  },
  {
   "cell_type": "code",
   "execution_count": 10,
   "metadata": {},
   "outputs": [
    {
     "name": "stdout",
     "output_type": "stream",
     "text": [
      "Please enter a valid integer\n"
     ]
    }
   ],
   "source": [
    "## main\n",
    "if __name__== \"__main__\":\n",
    "    num = input(\"enter the number : \")\n",
    "    print(divisable(num))"
   ]
  },
  {
   "cell_type": "markdown",
   "metadata": {},
   "source": [
    "3. Write a function which has an input of a string from user then it\n",
    "will return the same string reversed."
   ]
  },
  {
   "cell_type": "code",
   "execution_count": 11,
   "metadata": {},
   "outputs": [],
   "source": [
    "def revers_string(strs):\n",
    "    return strs[::-1]"
   ]
  },
  {
   "cell_type": "code",
   "execution_count": 12,
   "metadata": {},
   "outputs": [
    {
     "name": "stdout",
     "output_type": "stream",
     "text": [
      "as5d15msdlc\n"
     ]
    }
   ],
   "source": [
    "## main\n",
    "if __name__== \"__main__\":\n",
    "    strs = input(\"enter the number : \")\n",
    "    print(revers_string(strs))"
   ]
  },
  {
   "cell_type": "markdown",
   "metadata": {},
   "source": [
    "4. Ask the user for his name then confirm that he has entered his\n",
    "name(not an empty string/integers). then proceed to ask him for\n",
    "his email and print all this data (Bonus) check if it is a valid email\n",
    "or not"
   ]
  },
  {
   "cell_type": "code",
   "execution_count": 33,
   "metadata": {},
   "outputs": [],
   "source": [
    "def check_name(name):\n",
    "    name.strip()\n",
    "    if name.isalpha():\n",
    "        confirm_name = \"name is confirmed\\n\"\n",
    "        print(confirm_name)\n",
    "        email = input(\"enter your email : \")\n",
    "        email.strip()\n",
    "        if  '@' in email and '.' in email:\n",
    "            confirm_email = \"email is confirmed\"\n",
    "            print(confirm_email)\n",
    "            return confirm_email\n",
    "    else:\n",
    "        x = \"Please enter a valid string\"\n",
    "        return x\n"
   ]
  },
  {
   "cell_type": "code",
   "execution_count": 35,
   "metadata": {},
   "outputs": [
    {
     "name": "stdout",
     "output_type": "stream",
     "text": [
      "Please enter a valid string\n"
     ]
    }
   ],
   "source": [
    "## main\n",
    "if __name__== \"__main__\":\n",
    "    name = input(\"enter the user name : \")\n",
    "    print(check_name(name))"
   ]
  },
  {
   "cell_type": "markdown",
   "metadata": {},
   "source": [
    "5. Write a function that takes a string and prints the\n",
    "longest alphabetical ordered substring occurred For example, if\n",
    "the string is 'abdulrahman' then the output is: Longest substring in\n",
    "alphabetical order is: abdu"
   ]
  },
  {
   "cell_type": "code",
   "execution_count": 28,
   "metadata": {},
   "outputs": [],
   "source": [
    "def longest_alphabetical_substring(s):\n",
    "    longest_substring = \"\"\n",
    "    current_substring = \"\"\n",
    "\n",
    "    for char in s:\n",
    "        if not current_substring or char >= current_substring[-1]:\n",
    "            current_substring += char\n",
    "        else:\n",
    "            current_substring = char\n",
    "\n",
    "        if len(current_substring) > len(longest_substring):\n",
    "            longest_substring = current_substring\n",
    "\n",
    "    return f\"Longest substring in alphabetical order is: {longest_substring}\"\n"
   ]
  },
  {
   "cell_type": "code",
   "execution_count": 29,
   "metadata": {},
   "outputs": [
    {
     "name": "stdout",
     "output_type": "stream",
     "text": [
      "Longest substring in alphabetical order is: abdu\n"
     ]
    }
   ],
   "source": [
    "if __name__ == \"__main__\":\n",
    "    input_string = input(\"enter your string : \")\n",
    "    result = longest_alphabetical_substring(input_string)\n",
    "    print(result) "
   ]
  },
  {
   "cell_type": "markdown",
   "metadata": {},
   "source": [
    "6. Write a program which repeatedly reads numbers until the user enters “done”.\n",
    "    1. Once “done” is entered, print out the total, count, and average of the numbers.\n",
    "    2. If the user enters anything other than a number, detect their mistake, print an error message and skip to the next number."
   ]
  },
  {
   "cell_type": "code",
   "execution_count": 3,
   "metadata": {},
   "outputs": [],
   "source": [
    "def track_number():\n",
    "    l = []\n",
    "    while True:\n",
    "        num = input(\"enter number : \")\n",
    "        num.lower()\n",
    "        if num == 'done':\n",
    "            if l == []:\n",
    "                print('No Numbers Entered')\n",
    "                break\n",
    "            else:\n",
    "                print(f\"number of numbers you entered = {len(l)}\")\n",
    "                print(f\"summation of numbers you entered = {sum(l)}\")\n",
    "                print(f\"average of numbers you entered = {sum(l)/len(l)}\")\n",
    "                break\n",
    "        elif num.isnumeric():\n",
    "            num = int(num) \n",
    "            l.append(num)\n",
    "        else:\n",
    "            print(\"Please enter a valid number\")"
   ]
  },
  {
   "cell_type": "code",
   "execution_count": 5,
   "metadata": {},
   "outputs": [
    {
     "name": "stdout",
     "output_type": "stream",
     "text": [
      "No Numbers Entered\n"
     ]
    }
   ],
   "source": [
    "if __name__ == \"__main__\":\n",
    "    result = track_number()"
   ]
  },
  {
   "cell_type": "markdown",
   "metadata": {},
   "source": [
    "Word guessing game (hangman)\n",
    "1. A list of words will be hardcoded in your program, out of which the interpreter will\n",
    "2. choose 1 random word.\n",
    "3. The user first must input their names\n",
    "4. Ask the user to guess any alphabet. If the random word contains that alphabet, it\n",
    "5. will be shown as the output(with correct placement)\n",
    "6. Else the program will ask you to guess another alphabet.\n",
    "7. Give 7 turns maximum to guess the complete word."
   ]
  },
  {
   "cell_type": "code",
   "execution_count": null,
   "metadata": {},
   "outputs": [],
   "source": []
  },
  {
   "cell_type": "code",
   "execution_count": 7,
   "metadata": {},
   "outputs": [
    {
     "name": "stderr",
     "output_type": "stream",
     "text": [
      "[NbConvertApp] Converting notebook lab3.ipynb to script\n",
      "[NbConvertApp] Writing 4905 bytes to lab3.py\n"
     ]
    }
   ],
   "source": [
    "!jupyter nbconvert --to script lab3.ipynb"
   ]
  }
 ],
 "metadata": {
  "kernelspec": {
   "display_name": "pytaskitivenv",
   "language": "python",
   "name": "python3"
  },
  "language_info": {
   "codemirror_mode": {
    "name": "ipython",
    "version": 3
   },
   "file_extension": ".py",
   "mimetype": "text/x-python",
   "name": "python",
   "nbconvert_exporter": "python",
   "pygments_lexer": "ipython3",
   "version": "3.7.8"
  },
  "orig_nbformat": 4
 },
 "nbformat": 4,
 "nbformat_minor": 2
}
